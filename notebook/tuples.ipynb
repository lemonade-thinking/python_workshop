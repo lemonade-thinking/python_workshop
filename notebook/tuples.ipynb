{
 "cells": [
  {
   "cell_type": "markdown",
   "id": "f3a8a403",
   "metadata": {},
   "source": [
    "# Data structures: Tuples"
   ]
  },
  {
   "cell_type": "markdown",
   "id": "0a26cda8",
   "metadata": {},
   "source": [
    "## Tuple characteristics"
   ]
  },
  {
   "cell_type": "code",
   "execution_count": 1,
   "id": "97b45a5b",
   "metadata": {},
   "outputs": [
    {
     "name": "stdout",
     "output_type": "stream",
     "text": [
      "('banana', 'papaya', 'durian', 'orange')\n",
      "<class 'tuple'>\n"
     ]
    }
   ],
   "source": [
    "# create a tuple using parentheses ()\n",
    "fruit = ('banana','papaya','durian', 'orange')\n",
    "print(fruit)\n",
    "\n",
    "print(type(fruit))"
   ]
  },
  {
   "cell_type": "code",
   "execution_count": 2,
   "id": "a21c3316",
   "metadata": {},
   "outputs": [
    {
     "name": "stdout",
     "output_type": "stream",
     "text": [
      "<class 'tuple'>\n",
      "<class 'int'>\n"
     ]
    }
   ],
   "source": [
    "# for a single element, \n",
    "# a comma is required to make the element a tuple.\n",
    "is_tuple = (10,)\n",
    "print(type(is_tuple))\n",
    "\n",
    "# without the comma, the element with only the \n",
    "# parentheses does not make a tuple.\n",
    "not_a_tuple = (10)\n",
    "print(type(not_a_tuple))"
   ]
  },
  {
   "cell_type": "code",
   "execution_count": 3,
   "id": "f460310b",
   "metadata": {},
   "outputs": [
    {
     "data": {
      "text/plain": [
       "('p', 'o', 'k', 'e', 'm', 'o', 'n')"
      ]
     },
     "execution_count": 3,
     "metadata": {},
     "output_type": "execute_result"
    }
   ],
   "source": [
    "# creates a tuple with the built-in tuple function\n",
    "# converts a string into a tuple of characters\n",
    "tuple_of_strings = tuple('pokemon')\n",
    "tuple_of_strings"
   ]
  },
  {
   "cell_type": "code",
   "execution_count": 4,
   "id": "4c150020",
   "metadata": {},
   "outputs": [
    {
     "name": "stdout",
     "output_type": "stream",
     "text": [
      "()\n"
     ]
    }
   ],
   "source": [
    "# A tuple can be empty without element\n",
    "empty_tuple = ()\n",
    "print(empty_tuple)"
   ]
  },
  {
   "cell_type": "code",
   "execution_count": 5,
   "id": "faa3b75e",
   "metadata": {},
   "outputs": [
    {
     "name": "stdout",
     "output_type": "stream",
     "text": [
      "(100, 'names', 300.2052)\n",
      "(<class 'int'>, <class 'str'>, <class 'float'>)\n",
      "<class 'tuple'>\n"
     ]
    }
   ],
   "source": [
    "# heterogenenous tuple\n",
    "mixed_tuple = (100, 'names', 300.2052)\n",
    "mixed_type = (type(100), type('names'), type(300.2052))\n",
    "\n",
    "print(mixed_tuple)\n",
    "print(mixed_type)\n",
    "\n",
    "# same as the creating the list, \n",
    "# when creating a tuple consists of different datatypes,\n",
    "# the final datatype becomes a tuple.\n",
    "print(type(mixed_type))"
   ]
  },
  {
   "cell_type": "code",
   "execution_count": 6,
   "id": "d784414d",
   "metadata": {},
   "outputs": [
    {
     "name": "stdout",
     "output_type": "stream",
     "text": [
      "('jeff', 'jeff', 'jeff', 'jeffrey')\n"
     ]
    }
   ],
   "source": [
    "# non-unique\n",
    "# a tuple can also contain duplicated elements\n",
    "dup_tuple = ('jeff', 'jeff', 'jeff', 'jeffrey')\n",
    "print(dup_tuple)"
   ]
  },
  {
   "cell_type": "markdown",
   "id": "a1ae9a39",
   "metadata": {},
   "source": [
    "## Tuples indexing"
   ]
  },
  {
   "cell_type": "code",
   "execution_count": 7,
   "id": "ed002e0f",
   "metadata": {},
   "outputs": [
    {
     "name": "stdout",
     "output_type": "stream",
     "text": [
      "('jeff', 'tom', 'grace', 'joyce', 'tan', 'yi')\n",
      "jeff\n",
      "yi\n"
     ]
    }
   ],
   "source": [
    "names = ('jeff', 'tom', 'grace', 'joyce', 'tan', 'yi')\n",
    "print(names)\n",
    "\n",
    "# positive-index\n",
    "print(names[0])\n",
    "\n",
    "# negative-index\n",
    "print(names[-1])"
   ]
  },
  {
   "cell_type": "markdown",
   "id": "b447bb2a",
   "metadata": {},
   "source": [
    "## Tuples slicing"
   ]
  },
  {
   "cell_type": "code",
   "execution_count": 8,
   "id": "95cb9e43",
   "metadata": {},
   "outputs": [
    {
     "name": "stdout",
     "output_type": "stream",
     "text": [
      "('jeff', 'grace')\n"
     ]
    }
   ],
   "source": [
    "print(names[0:4:2])"
   ]
  },
  {
   "cell_type": "markdown",
   "id": "d294f17a",
   "metadata": {},
   "source": [
    "## Tuples are immutable!\n",
    "\n",
    "We cannot add a new element or delete the element after creating the tuple. Tuples are useful when we want to create fixed and constant elements.\n"
   ]
  },
  {
   "cell_type": "code",
   "execution_count": 9,
   "id": "cbbcec65",
   "metadata": {},
   "outputs": [
    {
     "ename": "AttributeError",
     "evalue": "'tuple' object has no attribute 'append'",
     "output_type": "error",
     "traceback": [
      "\u001b[0;31m---------------------------------------------------------------------------\u001b[0m",
      "\u001b[0;31mAttributeError\u001b[0m                            Traceback (most recent call last)",
      "Input \u001b[0;32mIn [9]\u001b[0m, in \u001b[0;36m<cell line: 1>\u001b[0;34m()\u001b[0m\n\u001b[0;32m----> 1\u001b[0m \u001b[43mnames\u001b[49m\u001b[38;5;241;43m.\u001b[39;49m\u001b[43mappend\u001b[49m(\u001b[38;5;124m'\u001b[39m\u001b[38;5;124mvincent\u001b[39m\u001b[38;5;124m'\u001b[39m)\n",
      "\u001b[0;31mAttributeError\u001b[0m: 'tuple' object has no attribute 'append'"
     ]
    }
   ],
   "source": [
    "names.append('vincent')"
   ]
  },
  {
   "cell_type": "code",
   "execution_count": 10,
   "id": "8f4a0e28",
   "metadata": {},
   "outputs": [
    {
     "ename": "TypeError",
     "evalue": "'tuple' object does not support item assignment",
     "output_type": "error",
     "traceback": [
      "\u001b[0;31m---------------------------------------------------------------------------\u001b[0m",
      "\u001b[0;31mTypeError\u001b[0m                                 Traceback (most recent call last)",
      "Input \u001b[0;32mIn [10]\u001b[0m, in \u001b[0;36m<cell line: 1>\u001b[0;34m()\u001b[0m\n\u001b[0;32m----> 1\u001b[0m \u001b[43mnames\u001b[49m\u001b[43m[\u001b[49m\u001b[38;5;241;43m-\u001b[39;49m\u001b[38;5;241;43m1\u001b[39;49m\u001b[43m]\u001b[49m \u001b[38;5;241m=\u001b[39m \u001b[38;5;124m'\u001b[39m\u001b[38;5;124mpeter\u001b[39m\u001b[38;5;124m'\u001b[39m\n",
      "\u001b[0;31mTypeError\u001b[0m: 'tuple' object does not support item assignment"
     ]
    }
   ],
   "source": [
    "names[-1] = 'peter'"
   ]
  }
 ],
 "metadata": {
  "kernelspec": {
   "display_name": "mlflow",
   "language": "python",
   "name": "mlflow"
  },
  "language_info": {
   "codemirror_mode": {
    "name": "ipython",
    "version": 3
   },
   "file_extension": ".py",
   "mimetype": "text/x-python",
   "name": "python",
   "nbconvert_exporter": "python",
   "pygments_lexer": "ipython3",
   "version": "3.10.4"
  }
 },
 "nbformat": 4,
 "nbformat_minor": 5
}
