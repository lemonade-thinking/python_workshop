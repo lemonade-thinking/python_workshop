{
 "cells": [
  {
   "cell_type": "markdown",
   "id": "a9304580",
   "metadata": {},
   "source": [
    "# Python for beginners"
   ]
  },
  {
   "cell_type": "markdown",
   "id": "ddcbce1e",
   "metadata": {},
   "source": [
    "## Section (1): Print statement"
   ]
  },
  {
   "cell_type": "code",
   "execution_count": null,
   "id": "2349c78d",
   "metadata": {},
   "outputs": [],
   "source": [
    "# Print a message\n",
    "print('Hello, world!')\n",
    "\n",
    "# Check datatype\n",
    "print(type('Hello, world!'))"
   ]
  },
  {
   "cell_type": "code",
   "execution_count": null,
   "id": "17e0b7bb",
   "metadata": {},
   "outputs": [],
   "source": [
    "# Print multiple values of different types\n",
    "ndays = 365\n",
    "print('There are', ndays, 'in a year!')\n",
    "\n",
    "# Check datatypes\n",
    "print(type(ndays))"
   ]
  },
  {
   "cell_type": "code",
   "execution_count": null,
   "id": "57eeb2f3",
   "metadata": {},
   "outputs": [],
   "source": [
    "# Asking the user for an input\n",
    "name = input('What is your name?\\n')"
   ]
  },
  {
   "cell_type": "code",
   "execution_count": null,
   "id": "71f0333f",
   "metadata": {},
   "outputs": [],
   "source": [
    "age = int(input('Enter your age:\\n'))"
   ]
  },
  {
   "cell_type": "markdown",
   "id": "6505b231",
   "metadata": {},
   "source": [
    "## Section (2): Comments in Python"
   ]
  },
  {
   "cell_type": "markdown",
   "id": "9d3392c7",
   "metadata": {},
   "source": [
    "### Single-line comment"
   ]
  },
  {
   "cell_type": "code",
   "execution_count": null,
   "id": "f3c02e36",
   "metadata": {},
   "outputs": [],
   "source": [
    "# Single-line comment\n",
    "a = 100\n",
    "b = 50 # This is an in-line comment"
   ]
  },
  {
   "cell_type": "markdown",
   "id": "888905e8",
   "metadata": {},
   "source": [
    "Both lines above are bad practice for coding because they don't explain the reasoning behind the variable assignment.\n",
    "\n",
    "What do ``a`` and ``b`` mean?"
   ]
  },
  {
   "cell_type": "code",
   "execution_count": null,
   "id": "9b10aeb4",
   "metadata": {},
   "outputs": [],
   "source": [
    "# Better code\n",
    "# This basket has 20 appples and 70 bananas.\n",
    "apple_count = 20\n",
    "banana_count = 70\n",
    "\n",
    "print(apple_count)\n",
    "print(banana_count)"
   ]
  },
  {
   "cell_type": "markdown",
   "id": "75a84ad0",
   "metadata": {},
   "source": [
    "### Multiline comments"
   ]
  },
  {
   "cell_type": "code",
   "execution_count": null,
   "id": "b82647a0",
   "metadata": {},
   "outputs": [],
   "source": [
    "# Multiline comment\n",
    "# This is a comment\n",
    "# written in\n",
    "# more than just one line"
   ]
  },
  {
   "cell_type": "code",
   "execution_count": null,
   "id": "4401fc29",
   "metadata": {},
   "outputs": [],
   "source": [
    "\"\"\"\n",
    "This is a comment\n",
    "written in\n",
    "more than just one line\n",
    "\"\"\""
   ]
  },
  {
   "cell_type": "markdown",
   "id": "9c61e4f3",
   "metadata": {},
   "source": [
    "## String manipulations"
   ]
  },
  {
   "cell_type": "code",
   "execution_count": null,
   "id": "fdea3731",
   "metadata": {},
   "outputs": [],
   "source": [
    "# Example strings:\n",
    "\n",
    "country = 'united kingdom'\n",
    "city = \"london\"\n",
    "book_name = '''lord of the rings'''\n",
    "postcode = 'se8 4ln'"
   ]
  },
  {
   "cell_type": "code",
   "execution_count": null,
   "id": "04f3996e",
   "metadata": {},
   "outputs": [],
   "source": [
    "type(postcode)"
   ]
  },
  {
   "cell_type": "code",
   "execution_count": null,
   "id": "9a78c9d7",
   "metadata": {},
   "outputs": [],
   "source": [
    "# Join different strings\n",
    "city + ' ' + country"
   ]
  },
  {
   "cell_type": "code",
   "execution_count": null,
   "id": "5b3531c3",
   "metadata": {},
   "outputs": [],
   "source": [
    "# Mutiply strings by integers\n",
    "'Please wait...'*3"
   ]
  },
  {
   "cell_type": "code",
   "execution_count": null,
   "id": "4822987f",
   "metadata": {},
   "outputs": [],
   "source": [
    "# Check the length of the string\n",
    "len('Please wait...')"
   ]
  },
  {
   "cell_type": "code",
   "execution_count": null,
   "id": "ee03269b",
   "metadata": {},
   "outputs": [],
   "source": [
    "# Convert string into integers\n",
    "# type string\n",
    "num_in_str = '100'\n",
    "print(f'{num_in_str} has type {type(num_in_str)}.')\n",
    "\n",
    "# type integer\n",
    "num_int = int(num_in_str)\n",
    "print(f'{num_int} has type {type(num_int)}.')"
   ]
  },
  {
   "cell_type": "markdown",
   "id": "a3ddbe4b",
   "metadata": {},
   "source": [
    "### String methods"
   ]
  },
  {
   "cell_type": "code",
   "execution_count": null,
   "id": "b84e1012",
   "metadata": {},
   "outputs": [],
   "source": [
    "country = 'united kingdom'\n",
    "city = \"london\"\n",
    "book_name = '''lord of the rings'''\n",
    "postcode = 'se8 4ln'\n",
    "\n",
    "\n",
    "# converts the first character of each word to upper case\n",
    "print(book_name.title())\n",
    "\n",
    "# converts first character to upper case and the rest to lowercase.\n",
    "print(city.capitalize())\n",
    "\n",
    "# convers all characters to uppercase\n",
    "print(postcode.upper())\n",
    "\n",
    "# replace characters in a given string\n",
    "print(book_name.replace('rings','flies'))\n",
    "\n",
    "# deletes characters from the string\n",
    "print(country.replace('united ',''))"
   ]
  },
  {
   "cell_type": "markdown",
   "id": "84e2b0a6",
   "metadata": {},
   "source": [
    "### String formatting"
   ]
  },
  {
   "cell_type": "code",
   "execution_count": null,
   "id": "f9cc54b5",
   "metadata": {},
   "outputs": [],
   "source": [
    "print('The new student class 6A is Kevin.')\n",
    "print('The student is 25 years old.')\n",
    "print('*'*50)\n",
    "\n",
    "print('The new student in class 6A is Megan.')\n",
    "print('The student is 18 years old.')\n",
    "print('*'*50)\n",
    "\n",
    "print('The new student in class 6A is Timothy.')\n",
    "print('The student is 21 years old.')\n",
    "print('*'*50)"
   ]
  },
  {
   "cell_type": "markdown",
   "id": "0fbd9d36",
   "metadata": {},
   "source": [
    "Instead of repeating the print statement multiple times, we can create a variable template and update the variable each time."
   ]
  },
  {
   "cell_type": "code",
   "execution_count": null,
   "id": "8631016e",
   "metadata": {},
   "outputs": [],
   "source": [
    "# Method 1: Use %\n",
    "# Student number-1\n",
    "student_name = 'Kevin'\n",
    "student_age = '25'\n",
    "\n",
    "# Method 1: use %s to create placeholder at specified location within the string\n",
    "# Use %variable_name at the end of the string\n",
    "print('String formatting with method 1:')\n",
    "print('The new student in class 6A is %s.' %student_name)\n",
    "print('The student is %s years old.' %student_age)\n",
    "print('*'*50)\n",
    "\n",
    "# Method 2: Use {} to create a placeholder at specific location within the string\n",
    "# At the end of each string, use .format(variable name)\n",
    "print('String formatting with method 2:')\n",
    "print('The new student in class 6A is {}.'.format(student_name))\n",
    "print('The student is {} years old.'.format(student_age))\n",
    "print('*'*50)\n",
    "\n",
    "# Method 3: Use f-string to create a placeholder directly\n",
    "# Start each string with the letter f\n",
    "print('String formatting with method 3:')\n",
    "print(f'The new student in class 6A is {student_name}.')\n",
    "print(f'The student is {student_age} years old.')\n",
    "print('*'*50)"
   ]
  },
  {
   "cell_type": "markdown",
   "id": "3e5c4461",
   "metadata": {},
   "source": [
    "## Exercise 1: Create a simple user profile considering\n",
    "\n",
    "* Name\n",
    "* Age\n",
    "* School/company's name\n",
    "* Home address\n",
    "* Email address"
   ]
  },
  {
   "cell_type": "markdown",
   "id": "47e07a05",
   "metadata": {},
   "source": [
    "### String comparisons\n",
    "\n",
    "* String comparisons are case-sensitive, try to change the message and check the output again."
   ]
  },
  {
   "cell_type": "code",
   "execution_count": null,
   "id": "8b47831a",
   "metadata": {},
   "outputs": [],
   "source": [
    "message = 'hello'\n",
    "\n",
    "# Compare two strings\n",
    "\n",
    "if message == 'hello':\n",
    "    print('How are you?')\n",
    "else:\n",
    "    print('String does not match!')"
   ]
  },
  {
   "cell_type": "code",
   "execution_count": null,
   "id": "2e1ccbd8",
   "metadata": {},
   "outputs": [],
   "source": [
    "# Is a character in the message?\n",
    "\n",
    "'o' in message"
   ]
  },
  {
   "cell_type": "code",
   "execution_count": null,
   "id": "e806f480",
   "metadata": {},
   "outputs": [],
   "source": [
    "# Is this substring in this string?\n",
    "\n",
    "'llo' in message"
   ]
  },
  {
   "cell_type": "markdown",
   "id": "ab155045",
   "metadata": {},
   "source": [
    "## Numbers and numeric operations"
   ]
  },
  {
   "cell_type": "code",
   "execution_count": 1,
   "id": "86a6fa5a",
   "metadata": {},
   "outputs": [
    {
     "name": "stdout",
     "output_type": "stream",
     "text": [
      "10 has type <class 'int'>\n",
      "-10 has type <class 'int'>\n"
     ]
    }
   ],
   "source": [
    "# To create an integer:\n",
    "integer_one = 10\n",
    "print(f'{integer_one} has type {type(integer_one)}')\n",
    "\n",
    "\n",
    "# or use the int callable:\n",
    "integer_two = int(-10)\n",
    "print(f'{integer_two} has type {type(integer_two)}')\n"
   ]
  },
  {
   "cell_type": "code",
   "execution_count": 2,
   "id": "d26d14b5",
   "metadata": {},
   "outputs": [
    {
     "name": "stdout",
     "output_type": "stream",
     "text": [
      "3.0\n",
      "10.0\n",
      "<class 'float'>\n"
     ]
    }
   ],
   "source": [
    "# To create a float\n",
    "float_num = 3.0\n",
    "print(float_num)\n",
    "\n",
    "# To convert integer to float\n",
    "# use the float callable\n",
    "float_converted = float(integer_one)\n",
    "print(float_converted)\n",
    "print(type(float_converted))"
   ]
  },
  {
   "cell_type": "code",
   "execution_count": 3,
   "id": "a6839f5b",
   "metadata": {},
   "outputs": [
    {
     "name": "stdout",
     "output_type": "stream",
     "text": [
      "The floored quotient of x and y is 3\n",
      "The remainder of x and y is 1\n",
      "The divmod of x and y is (3, 1)\n"
     ]
    }
   ],
   "source": [
    "x = 10\n",
    "y = 3\n",
    "\n",
    "print(f'The floored quotient of x and y is {x // y}')\n",
    "print(f'The remainder of x and y is {x % y}')\n",
    "print(f'The divmod of x and y is {divmod(x, y)}')\n"
   ]
  },
  {
   "cell_type": "markdown",
   "id": "078ec8e3",
   "metadata": {},
   "source": [
    "## Exercise 2: Create a simple currency conversion calculator\n",
    "\n",
    "To convert MYR to\n",
    "\n",
    "* GBP\n",
    "* EUR\n",
    "* USD\n",
    "* Japanese Yen"
   ]
  },
  {
   "cell_type": "code",
   "execution_count": null,
   "id": "1d15c50c",
   "metadata": {},
   "outputs": [],
   "source": []
  }
 ],
 "metadata": {
  "kernelspec": {
   "display_name": "mlflow",
   "language": "python",
   "name": "mlflow"
  },
  "language_info": {
   "codemirror_mode": {
    "name": "ipython",
    "version": 3
   },
   "file_extension": ".py",
   "mimetype": "text/x-python",
   "name": "python",
   "nbconvert_exporter": "python",
   "pygments_lexer": "ipython3",
   "version": "3.10.4"
  }
 },
 "nbformat": 4,
 "nbformat_minor": 5
}
