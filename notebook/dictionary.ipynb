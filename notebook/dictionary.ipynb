{
 "cells": [
  {
   "cell_type": "markdown",
   "id": "751415d6",
   "metadata": {},
   "source": [
    "# Data structures: Dictionary\n",
    "\n",
    "## Dictionary characteristics"
   ]
  },
  {
   "cell_type": "code",
   "execution_count": 1,
   "id": "75b02e96",
   "metadata": {},
   "outputs": [
    {
     "name": "stdout",
     "output_type": "stream",
     "text": [
      "{'joshua': 'joshua_tan@gmail.com', 'megan': 'megan_dixon@hotmail.com', 'vincent': 'vincent_1234@yahoo.com'}\n"
     ]
    }
   ],
   "source": [
    "# Create a dictionary using curly-bracket with key-value pairs\n",
    "student_email = {'joshua': 'joshua_tan@gmail.com',\n",
    "                 'megan': 'megan_dixon@hotmail.com',\n",
    "                 'vincent': 'vincent_1234@yahoo.com'}\n",
    "\n",
    "print(student_email)"
   ]
  },
  {
   "cell_type": "code",
   "execution_count": 2,
   "id": "7c40bab1",
   "metadata": {},
   "outputs": [
    {
     "name": "stdout",
     "output_type": "stream",
     "text": [
      "{'joshua': 'joshua_tan@gmail.com', 'megan': 'megan_dixon@hotmail.com', 'vincent': 'vincent_1234@yahoo.com'}\n"
     ]
    }
   ],
   "source": [
    "# creates a dictionary using the dict method\n",
    "# using the dict method on a list of tuples for key-value pair\n",
    "student_email = dict([('joshua','joshua_tan@gmail.com'),\n",
    "                      ('megan','megan_dixon@hotmail.com'),\n",
    "                      ('vincent', 'vincent_1234@yahoo.com')])\n",
    "print(student_email)"
   ]
  },
  {
   "cell_type": "code",
   "execution_count": 3,
   "id": "6ff3a260",
   "metadata": {},
   "outputs": [
    {
     "name": "stdout",
     "output_type": "stream",
     "text": [
      "{'joshua': 1000, 'megan': 1001, 'vincent': 1002}\n",
      "{'joshua': 1000, 'megan': 1005, 'vincent': 1002}\n"
     ]
    }
   ],
   "source": [
    "# Dictionary are heterogeneous,\n",
    "# the keys and corresponding values can have different datatype\n",
    "student_id = {'joshua': 1000,\n",
    "              'megan': 1001,\n",
    "              'vincent': 1002}\n",
    "print(student_id)\n",
    "\n",
    "# unique key: key with the same name but have different value \n",
    "# can only exist once\n",
    "new_id = {'megan': 1005}\n",
    "student_id.update(new_id)\n",
    "print(student_id)"
   ]
  },
  {
   "cell_type": "markdown",
   "id": "8c2ff622",
   "metadata": {},
   "source": [
    "## Access dictionary"
   ]
  },
  {
   "cell_type": "code",
   "execution_count": 4,
   "id": "6fad3dff",
   "metadata": {},
   "outputs": [
    {
     "name": "stdout",
     "output_type": "stream",
     "text": [
      "dict_keys(['joshua', 'megan', 'vincent'])\n",
      "**************************************************\n",
      "dict_values(['joshua_tan@gmail.com', 'megan_dixon@hotmail.com', 'vincent_1234@yahoo.com'])\n",
      "**************************************************\n",
      "dict_items([('joshua', 'joshua_tan@gmail.com'), ('megan', 'megan_dixon@hotmail.com'), ('vincent', 'vincent_1234@yahoo.com')])\n",
      "**************************************************\n"
     ]
    }
   ],
   "source": [
    "# extract all keys of a dictionary\n",
    "print(student_email.keys())\n",
    "print('*'*50)\n",
    "\n",
    "# extract all values\n",
    "print(student_email.values())\n",
    "print('*'*50)\n",
    "\n",
    "# access all keys and their corresponding value\n",
    "print(student_email.items())\n",
    "print('*'*50)"
   ]
  },
  {
   "cell_type": "code",
   "execution_count": 5,
   "id": "636e394f",
   "metadata": {},
   "outputs": [
    {
     "name": "stdout",
     "output_type": "stream",
     "text": [
      "joshua_tan@gmail.com\n",
      "joshua_tan@gmail.com\n"
     ]
    }
   ],
   "source": [
    "# extract a specific value using the key\n",
    "print(student_email['joshua'])\n",
    "\n",
    "# extract a specific value of a key using the get method\n",
    "print(student_email.get('joshua'))"
   ]
  },
  {
   "cell_type": "markdown",
   "id": "4ddde11b",
   "metadata": {},
   "source": [
    "## Add new key-value to the dictionary"
   ]
  },
  {
   "cell_type": "code",
   "execution_count": 6,
   "id": "17fb49d6",
   "metadata": {},
   "outputs": [
    {
     "name": "stdout",
     "output_type": "stream",
     "text": [
      "{'joshua': 'joshua_tan@gmail.com', 'megan': 'megan_dixon@hotmail.com', 'vincent': 'vincent_1234@yahoo.com', 'benson': 'benson@gmail.com'}\n",
      "{'joshua': 'joshua_tan@gmail.com', 'megan': 'megan_dixon@hotmail.com', 'vincent': 'vincent_1234@yahoo.com', 'benson': 'benson@gmail.com', 'winnie': 'winnie_pooh@yahoo.com'}\n"
     ]
    }
   ],
   "source": [
    "# creates a new dicctionary using curly bracket\n",
    "# use the update method to add new entry\n",
    "new_entry = {'benson':'benson@gmail.com'}\n",
    "student_email.update(new_entry)\n",
    "print(student_email)\n",
    "\n",
    "# update by creating a list of new tuple\n",
    "student_email.update([('winnie', 'winnie_pooh@yahoo.com')])\n",
    "print(student_email)\n"
   ]
  },
  {
   "cell_type": "markdown",
   "id": "0b01ac05",
   "metadata": {},
   "source": [
    "## Remove items from the dictionary\n",
    "\n",
    "Entries from a dictionary can be removed using:\n",
    "* ``popitem()``: Removes the last item in the dict\n",
    "* ``pop()``: Removes by using dict's key\n",
    "* ``del``: Removes by using dict's key"
   ]
  },
  {
   "cell_type": "code",
   "execution_count": 7,
   "id": "7ecfc50f",
   "metadata": {},
   "outputs": [
    {
     "name": "stdout",
     "output_type": "stream",
     "text": [
      "{'joshua': 'joshua_tan@gmail.com', 'megan': 'megan_dixon@hotmail.com', 'vincent': 'vincent_1234@yahoo.com', 'benson': 'benson@gmail.com'}\n"
     ]
    }
   ],
   "source": [
    "# Remove the last item\n",
    "student_email.popitem()\n",
    "print(student_email)"
   ]
  },
  {
   "cell_type": "code",
   "execution_count": 8,
   "id": "d36b03a7",
   "metadata": {},
   "outputs": [
    {
     "name": "stdout",
     "output_type": "stream",
     "text": [
      "{'joshua': 'joshua_tan@gmail.com', 'megan': 'megan_dixon@hotmail.com', 'benson': 'benson@gmail.com'}\n",
      "{'megan': 'megan_dixon@hotmail.com', 'benson': 'benson@gmail.com'}\n"
     ]
    }
   ],
   "source": [
    "# Removes by using dict's key using the pop method\n",
    "student_email.pop('vincent')\n",
    "print(student_email)\n",
    "\n",
    "# Removes by using the del method\n",
    "del student_email['joshua']\n",
    "print(student_email)"
   ]
  },
  {
   "cell_type": "markdown",
   "id": "f5b56168",
   "metadata": {},
   "source": [
    "## Update entry in an existing dictionary"
   ]
  },
  {
   "cell_type": "code",
   "execution_count": 9,
   "id": "fbd0e632",
   "metadata": {},
   "outputs": [
    {
     "name": "stdout",
     "output_type": "stream",
     "text": [
      "{'joshua': 'joshua_tan@gmail.com', 'megan': 'megan_dixon@hotmail.com', 'vincent': 'vincent_1234@yahoo.com'}\n",
      "{'joshua': 'joshua_tan@gmail.com', 'megan': 'megan_new_email@twitter.com', 'vincent': 'vincent_1234@yahoo.com'}\n"
     ]
    }
   ],
   "source": [
    "# We want to change megan's email address\n",
    "student_email = dict([('joshua','joshua_tan@gmail.com'),\n",
    "                    ('megan','megan_dixon@hotmail.com'),\n",
    "                    ('vincent', 'vincent_1234@yahoo.com')])\n",
    "print(student_email)\n",
    "\n",
    "# access the key and change the corresponding value\n",
    "student_email['megan'] = 'megan_new_email@twitter.com'\n",
    "print(student_email)"
   ]
  }
 ],
 "metadata": {
  "kernelspec": {
   "display_name": "mlflow",
   "language": "python",
   "name": "mlflow"
  },
  "language_info": {
   "codemirror_mode": {
    "name": "ipython",
    "version": 3
   },
   "file_extension": ".py",
   "mimetype": "text/x-python",
   "name": "python",
   "nbconvert_exporter": "python",
   "pygments_lexer": "ipython3",
   "version": "3.10.4"
  }
 },
 "nbformat": 4,
 "nbformat_minor": 5
}
