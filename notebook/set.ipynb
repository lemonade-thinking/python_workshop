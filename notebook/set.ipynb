{
 "cells": [
  {
   "cell_type": "markdown",
   "id": "0e48024a",
   "metadata": {},
   "source": [
    "# Data structures: Set\n",
    "\n",
    "## Set characteristics"
   ]
  },
  {
   "cell_type": "code",
   "execution_count": 1,
   "id": "8c8f5b3b",
   "metadata": {},
   "outputs": [
    {
     "name": "stdout",
     "output_type": "stream",
     "text": [
      "{10, 20, 30}\n",
      "<class 'set'>\n",
      "**************************************************\n",
      "{'tom', 'jeff', 'joyce', 'yi', 'tan', 'grace'}\n",
      "<class 'set'>\n",
      "**************************************************\n",
      "{-200.5, 100, 'jeff'}\n",
      "{<class 'int'>, <class 'float'>, <class 'str'>}\n",
      "<class 'set'>\n"
     ]
    }
   ],
   "source": [
    "# creates a set with curly bracket\n",
    "set_of_nums = {10, 20, 30}\n",
    "print(set_of_nums)\n",
    "\n",
    "# type int converted to type set\n",
    "print(type(set_of_nums))\n",
    "print('*'*50)\n",
    "\n",
    "# set of names\n",
    "names = {'jeff', 'tom', 'grace', 'joyce', 'tan', 'yi'}\n",
    "print(names)\n",
    "\n",
    "# type string converted to type set\n",
    "print(type(names))\n",
    "print('*'*50)\n",
    "\n",
    "# heterogeneous set is possible\n",
    "mixed_set = {100, -200.5, 'jeff'}\n",
    "print(mixed_set)\n",
    "\n",
    "mixed_type = {type(100), type(-200.5), type('jeff')}\n",
    "print(mixed_type)\n",
    "print(type(mixed_set))"
   ]
  },
  {
   "cell_type": "markdown",
   "id": "eb7db062",
   "metadata": {},
   "source": [
    "## Add or remove element from a set"
   ]
  },
  {
   "cell_type": "code",
   "execution_count": 2,
   "id": "3022f291",
   "metadata": {},
   "outputs": [
    {
     "name": "stdout",
     "output_type": "stream",
     "text": [
      "{'vincent', 'tom', 'jeff', 'joyce', 'yi', 'tan', 'grace'}\n",
      "{'peter', 'winnie', 'yi', 'vincent', 'grace', 'william', 'tom', 'jeff', 'joyce', 'tan'}\n"
     ]
    }
   ],
   "source": [
    "# Add new participant to the set of names\n",
    "names.add('vincent')\n",
    "print(names)\n",
    "\n",
    "new_names = {'peter', 'winnie', 'william'}\n",
    "names.update(new_names)\n",
    "print(names)"
   ]
  },
  {
   "cell_type": "code",
   "execution_count": 3,
   "id": "35ebfff7",
   "metadata": {},
   "outputs": [
    {
     "name": "stdout",
     "output_type": "stream",
     "text": [
      "{'peter', 'winnie', 'yi', 'vincent', 'grace', 'william', 'tom', 'jeff', 'joyce', 'tan'}\n",
      "{'jeffrey', 'jeff'}\n"
     ]
    }
   ],
   "source": [
    "# Try adding a duplicated name\n",
    "names.add('jeff')\n",
    "print(names)\n",
    "\n",
    "dup_names = {'jeff', 'jeff', 'jeff', 'jeffrey'}\n",
    "print(dup_names)"
   ]
  },
  {
   "cell_type": "code",
   "execution_count": 4,
   "id": "ab21b14c",
   "metadata": {},
   "outputs": [
    {
     "name": "stdout",
     "output_type": "stream",
     "text": [
      "['jeff', 'jeff', 'jeff', 'jeffrey']\n"
     ]
    }
   ],
   "source": [
    "# Compare to list\n",
    "# a list can contain duplicated elements\n",
    "dup_list = ['jeff', 'jeff', 'jeff', 'jeffrey']\n",
    "print(dup_list)"
   ]
  },
  {
   "cell_type": "code",
   "execution_count": 5,
   "id": "99e108c7",
   "metadata": {},
   "outputs": [
    {
     "name": "stdout",
     "output_type": "stream",
     "text": [
      "{'peter', 'winnie', 'vincent', 'grace', 'william', 'tom', 'jeff', 'joyce', 'tan'}\n",
      "{'peter', 'winnie', 'grace', 'william', 'tom', 'jeff', 'joyce', 'tan'}\n"
     ]
    }
   ],
   "source": [
    "names.remove('yi')\n",
    "print(names)\n",
    "\n",
    "names.discard('vincent')\n",
    "print(names)"
   ]
  },
  {
   "cell_type": "markdown",
   "id": "2b356e4c",
   "metadata": {},
   "source": [
    "## Commonly used set methods\n",
    "\n",
    "* ``intersection()``: returns common elements from both sets\n",
    "* ``union()``: combines two or more sets and returns a new set;\n",
    "* ``difference()``: returns elements only in the first set (orders matter here)"
   ]
  },
  {
   "cell_type": "code",
   "execution_count": 6,
   "id": "b90da761",
   "metadata": {},
   "outputs": [
    {
     "name": "stdout",
     "output_type": "stream",
     "text": [
      "{'papaya', 'banana', 'watermelon', 'apple', 'mango', 'durian'}\n",
      "{'durian', 'banana', 'apple'}\n"
     ]
    }
   ],
   "source": [
    "first_basket = {'banana', 'apple', 'durian'}\n",
    "second_basket = {'papaya', 'mango', 'watermelon', 'banana', 'apple'}\n",
    "\n",
    "# merge two sets into a new set\n",
    "print(first_basket.union(second_basket))\n",
    "\n",
    "# union doesn't change the original set\n",
    "print(first_basket)"
   ]
  },
  {
   "cell_type": "code",
   "execution_count": 7,
   "id": "148258e6",
   "metadata": {},
   "outputs": [
    {
     "name": "stdout",
     "output_type": "stream",
     "text": [
      "{'banana', 'apple'}\n"
     ]
    }
   ],
   "source": [
    "# extract the common elements from both sets\n",
    "print(first_basket.intersection(second_basket))"
   ]
  },
  {
   "cell_type": "code",
   "execution_count": 8,
   "id": "054c9f72",
   "metadata": {},
   "outputs": [
    {
     "name": "stdout",
     "output_type": "stream",
     "text": [
      "{'durian'}\n",
      "{'papaya', 'watermelon', 'mango'}\n"
     ]
    }
   ],
   "source": [
    "# returns element only in the first set\n",
    "print(first_basket.difference(second_basket))\n",
    "\n",
    "# returns elements only in the second set\n",
    "print(second_basket.difference(first_basket))"
   ]
  }
 ],
 "metadata": {
  "kernelspec": {
   "display_name": "mlflow",
   "language": "python",
   "name": "mlflow"
  },
  "language_info": {
   "codemirror_mode": {
    "name": "ipython",
    "version": 3
   },
   "file_extension": ".py",
   "mimetype": "text/x-python",
   "name": "python",
   "nbconvert_exporter": "python",
   "pygments_lexer": "ipython3",
   "version": "3.10.4"
  }
 },
 "nbformat": 4,
 "nbformat_minor": 5
}
