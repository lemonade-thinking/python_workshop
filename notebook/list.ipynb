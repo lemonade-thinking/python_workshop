{
 "cells": [
  {
   "cell_type": "markdown",
   "id": "38e598c1",
   "metadata": {},
   "source": [
    "# Data structures: List"
   ]
  },
  {
   "cell_type": "markdown",
   "id": "32d4c0b8",
   "metadata": {},
   "source": [
    "## List characteristics"
   ]
  },
  {
   "cell_type": "code",
   "execution_count": 1,
   "id": "787f500d",
   "metadata": {},
   "outputs": [
    {
     "name": "stdout",
     "output_type": "stream",
     "text": [
      "[10, 20, 30]\n",
      "<class 'list'>\n",
      "**************************************************\n",
      "['jeff', 'tom', 'grace', 'joyce', 'tan', 'yi']\n",
      "<class 'list'>\n"
     ]
    }
   ],
   "source": [
    "# creates a list with square brackets\n",
    "# a list of numbers\n",
    "list_of_nums = [10, 20, 30]\n",
    "print(list_of_nums)\n",
    "\n",
    "# type int converted to type list \n",
    "print(type(list_of_nums))\n",
    "print('*'*50)\n",
    "\n",
    "# list of names\n",
    "names = ['jeff', 'tom', 'grace', 'joyce', 'tan', 'yi']\n",
    "print(names)\n",
    "\n",
    "# type string converted to type list\n",
    "print(type(names))"
   ]
  },
  {
   "cell_type": "code",
   "execution_count": 2,
   "id": "a0f872a7",
   "metadata": {},
   "outputs": [
    {
     "data": {
      "text/plain": [
       "['p', 'o', 'k', 'e', 'm', 'o', 'n']"
      ]
     },
     "execution_count": 2,
     "metadata": {},
     "output_type": "execute_result"
    }
   ],
   "source": [
    "# creates a list with the built-in list function\n",
    "# converts a string into a list of characters\n",
    "list_of_strings = list('pokemon')\n",
    "list_of_strings"
   ]
  },
  {
   "cell_type": "code",
   "execution_count": 3,
   "id": "6d6ae788",
   "metadata": {},
   "outputs": [
    {
     "name": "stdout",
     "output_type": "stream",
     "text": [
      "[]\n"
     ]
    }
   ],
   "source": [
    "# A list can be empty without element\n",
    "empty_list = []\n",
    "print(empty_list)"
   ]
  },
  {
   "cell_type": "code",
   "execution_count": 4,
   "id": "3d2d6cb5",
   "metadata": {},
   "outputs": [
    {
     "name": "stdout",
     "output_type": "stream",
     "text": [
      "[100, 'names', 300.2052]\n",
      "[<class 'int'>, <class 'str'>, <class 'float'>]\n",
      "<class 'list'>\n"
     ]
    }
   ],
   "source": [
    "# heterogenenous list\n",
    "mixed_list = [100, 'names', 300.2052]\n",
    "mixed_type = [type(100), type('names'), type(300.2052)]\n",
    "\n",
    "print(mixed_list)\n",
    "print(mixed_type)\n",
    "\n",
    "# regardless of the type of each element,\n",
    "# when a list is constructed, the datatype becomes type list! \n",
    "print(type(mixed_type))"
   ]
  },
  {
   "cell_type": "code",
   "execution_count": 5,
   "id": "228fa37b",
   "metadata": {},
   "outputs": [
    {
     "name": "stdout",
     "output_type": "stream",
     "text": [
      "['jeff', 'jeff', 'jeff', 'jeffrey']\n"
     ]
    }
   ],
   "source": [
    "# non-unique\n",
    "# a list can contain duplicated elements\n",
    "dup_list = ['jeff', 'jeff', 'jeff', 'jeffrey']\n",
    "print(dup_list)"
   ]
  },
  {
   "cell_type": "markdown",
   "id": "15703e5f",
   "metadata": {},
   "source": [
    "## List indexing"
   ]
  },
  {
   "cell_type": "code",
   "execution_count": 6,
   "id": "56339911",
   "metadata": {},
   "outputs": [
    {
     "name": "stdout",
     "output_type": "stream",
     "text": [
      "['jeff', 'tom', 'grace', 'joyce', 'tan', 'yi']\n",
      "jeff is at position 0\n",
      "yi is at position 5\n"
     ]
    }
   ],
   "source": [
    "names = ['jeff', 'tom', 'grace', 'joyce', 'tan', 'yi']\n",
    "print(names)\n",
    "\n",
    "jeff_pos = names.index('jeff')\n",
    "print(f'jeff is at position {jeff_pos}')\n",
    "\n",
    "yi_pos = names.index('yi')\n",
    "print(f'yi is at position {yi_pos}')"
   ]
  },
  {
   "cell_type": "code",
   "execution_count": 7,
   "id": "7a837511",
   "metadata": {},
   "outputs": [
    {
     "name": "stdout",
     "output_type": "stream",
     "text": [
      "Positive indexing starts from 0 forward:\n",
      "jeff\n",
      "tan\n",
      "**************************************************\n",
      "Negative indexing starts from -1 backward:\n",
      "yi\n",
      "joyce\n"
     ]
    }
   ],
   "source": [
    "# positive indexing\n",
    "print('Positive indexing starts from 0 forward:')\n",
    "print(names[0])\n",
    "print(names[4])\n",
    "print('*'*50)\n",
    "\n",
    "# negative indexing\n",
    "print('Negative indexing starts from -1 backward:')\n",
    "print(names[-1])\n",
    "print(names[-3])"
   ]
  },
  {
   "cell_type": "markdown",
   "id": "302e8f28",
   "metadata": {},
   "source": [
    "## List methods\n",
    "\n",
    "Adding elements to a list: ``append()``, ``insert()``, ``extend()`` "
   ]
  },
  {
   "cell_type": "code",
   "execution_count": 8,
   "id": "003dd59b",
   "metadata": {},
   "outputs": [
    {
     "name": "stdout",
     "output_type": "stream",
     "text": [
      "['jeff', 'tom', 'grace', 'joyce', 'tan', 'yi']\n",
      "['jeff', 'tom', 'grace', 'joyce', 'tan', 'yi', 'vincent']\n"
     ]
    }
   ],
   "source": [
    "# list of names\n",
    "names = ['jeff', 'tom', 'grace', 'joyce', 'tan', 'yi']\n",
    "print(names)\n",
    "\n",
    "# append(): add an element to the end of list\n",
    "names.append('vincent')\n",
    "print(names)"
   ]
  },
  {
   "cell_type": "code",
   "execution_count": 9,
   "id": "6438d388",
   "metadata": {},
   "outputs": [
    {
     "name": "stdout",
     "output_type": "stream",
     "text": [
      "['jeff', 'tom', 'grace', 'joyce', 'tan', 'yi']\n",
      "['jeff', 'tom', 'grace', 'kevin', 'joyce', 'tan', 'yi']\n",
      "['jeff', 'tom', 'grace', 'kevin', 'joyce', 'megan', 'tan', 'yi']\n"
     ]
    }
   ],
   "source": [
    "# list of names\n",
    "names = ['jeff', 'tom', 'grace', 'joyce', 'tan', 'yi']\n",
    "print(names)\n",
    "\n",
    "# insert element to a specific position\n",
    "# insert with positive-indexing\n",
    "names.insert(3, 'kevin')\n",
    "print(names)\n",
    "\n",
    "# insert with negative-indexing\n",
    "names.insert(-2, 'megan')\n",
    "print(names)"
   ]
  },
  {
   "cell_type": "code",
   "execution_count": 10,
   "id": "5f788eff",
   "metadata": {},
   "outputs": [
    {
     "name": "stdout",
     "output_type": "stream",
     "text": [
      "['jeff', 'tom', 'grace', 'kevin', 'joyce', 'megan', 'tan', 'yi', 'durian', 'papaya', 'banana']\n"
     ]
    }
   ],
   "source": [
    "# combines two lists with the list method extend\n",
    "fruit = ['durian','papaya','banana']\n",
    "names.extend(fruit)\n",
    "print(names)"
   ]
  },
  {
   "cell_type": "code",
   "execution_count": 11,
   "id": "7384eea9",
   "metadata": {},
   "outputs": [
    {
     "name": "stdout",
     "output_type": "stream",
     "text": [
      "['durian', 'papaya', 'banana', 'english', 'mandarin', 'japanese']\n"
     ]
    }
   ],
   "source": [
    "# combined two list with the + operator\n",
    "language = ['english', 'mandarin', 'japanese']\n",
    "\n",
    "merged_list = fruit + language\n",
    "print(merged_list)"
   ]
  },
  {
   "cell_type": "markdown",
   "id": "22334aaa",
   "metadata": {},
   "source": [
    "## Deletes from a list\n",
    "\n",
    "Removing elements from a list: ``clear()``, ``pop()``, ``del()`` and ``remove()``."
   ]
  },
  {
   "cell_type": "code",
   "execution_count": 12,
   "id": "a36fbbc2",
   "metadata": {},
   "outputs": [
    {
     "name": "stdout",
     "output_type": "stream",
     "text": [
      "['english', 'mandarin', 'japanese']\n",
      "[]\n"
     ]
    }
   ],
   "source": [
    "language = ['english', 'mandarin', 'japanese']\n",
    "print(language)\n",
    "\n",
    "# clear() remove everything from the list\n",
    "language.clear()\n",
    "print(language)"
   ]
  },
  {
   "cell_type": "markdown",
   "id": "34260753",
   "metadata": {},
   "source": [
    "### Remove elements using index"
   ]
  },
  {
   "cell_type": "code",
   "execution_count": 13,
   "id": "dbef1bf9",
   "metadata": {},
   "outputs": [
    {
     "name": "stdout",
     "output_type": "stream",
     "text": [
      "Before using pop: ['durian', 'papaya', 'banana', 'orange', 'apples']\n",
      "After using pop without indexing: ['durian', 'papaya', 'banana', 'orange']\n",
      "After using pop with indexing: ['papaya', 'banana', 'orange']\n"
     ]
    }
   ],
   "source": [
    "# pop removes element using index\n",
    "fruit = ['durian','papaya','banana', 'orange', 'apples']\n",
    "print(f'Before using pop: {fruit}')\n",
    "\n",
    "# remove the last element in the list by default\n",
    "fruit.pop()\n",
    "print(f'After using pop without indexing: {fruit}')\n",
    "\n",
    "# remove using index (positive-indexing)\n",
    "fruit.pop(0)\n",
    "print(f'After using pop with indexing: {fruit}')"
   ]
  },
  {
   "cell_type": "code",
   "execution_count": 15,
   "id": "62cdde89",
   "metadata": {},
   "outputs": [
    {
     "ename": "TypeError",
     "evalue": "'str' object cannot be interpreted as an integer",
     "output_type": "error",
     "traceback": [
      "\u001b[0;31m---------------------------------------------------------------------------\u001b[0m",
      "\u001b[0;31mTypeError\u001b[0m                                 Traceback (most recent call last)",
      "Input \u001b[0;32mIn [15]\u001b[0m, in \u001b[0;36m<cell line: 2>\u001b[0;34m()\u001b[0m\n\u001b[1;32m      1\u001b[0m \u001b[38;5;66;03m# pop cannot work with element's name\u001b[39;00m\n\u001b[0;32m----> 2\u001b[0m \u001b[43mfruit\u001b[49m\u001b[38;5;241;43m.\u001b[39;49m\u001b[43mpop\u001b[49m\u001b[43m(\u001b[49m\u001b[38;5;124;43m'\u001b[39;49m\u001b[38;5;124;43mbanana\u001b[39;49m\u001b[38;5;124;43m'\u001b[39;49m\u001b[43m)\u001b[49m\n",
      "\u001b[0;31mTypeError\u001b[0m: 'str' object cannot be interpreted as an integer"
     ]
    }
   ],
   "source": [
    "# pop cannot work with element's name\n",
    "fruit.pop('banana')"
   ]
  },
  {
   "cell_type": "code",
   "execution_count": 16,
   "id": "50275d3e",
   "metadata": {},
   "outputs": [
    {
     "name": "stdout",
     "output_type": "stream",
     "text": [
      "After removing with del method: ['papaya', 'banana']\n"
     ]
    }
   ],
   "source": [
    "# remove using index (negative-indexing)\n",
    "del fruit[-1]\n",
    "print(f'After removing with del method: {fruit}')"
   ]
  },
  {
   "cell_type": "code",
   "execution_count": 17,
   "id": "78eb82b8",
   "metadata": {},
   "outputs": [
    {
     "ename": "TypeError",
     "evalue": "list indices must be integers or slices, not str",
     "output_type": "error",
     "traceback": [
      "\u001b[0;31m---------------------------------------------------------------------------\u001b[0m",
      "\u001b[0;31mTypeError\u001b[0m                                 Traceback (most recent call last)",
      "Input \u001b[0;32mIn [17]\u001b[0m, in \u001b[0;36m<cell line: 2>\u001b[0;34m()\u001b[0m\n\u001b[1;32m      1\u001b[0m \u001b[38;5;66;03m# del cannot work with element's name\u001b[39;00m\n\u001b[0;32m----> 2\u001b[0m \u001b[38;5;28;01mdel\u001b[39;00m fruit[\u001b[38;5;124m'\u001b[39m\u001b[38;5;124mpapaya\u001b[39m\u001b[38;5;124m'\u001b[39m]\n",
      "\u001b[0;31mTypeError\u001b[0m: list indices must be integers or slices, not str"
     ]
    }
   ],
   "source": [
    "# del cannot work with element's name\n",
    "del fruit['papaya']"
   ]
  },
  {
   "cell_type": "markdown",
   "id": "4579293c",
   "metadata": {},
   "source": [
    "### Remove element using element's name"
   ]
  },
  {
   "cell_type": "code",
   "execution_count": 18,
   "id": "8677f1e3",
   "metadata": {},
   "outputs": [
    {
     "name": "stdout",
     "output_type": "stream",
     "text": [
      "Before removing: ['cat', 'dog', 'monkey', 'bird']\n",
      "Remove by using element name: ['dog', 'monkey', 'bird']\n"
     ]
    }
   ],
   "source": [
    "# remove using element's name\n",
    "animal = ['cat', 'dog', 'monkey', 'bird']\n",
    "print(f'Before removing: {animal}')\n",
    "animal.remove('cat')\n",
    "print(f'Remove by using element name: {animal}')"
   ]
  },
  {
   "cell_type": "code",
   "execution_count": 19,
   "id": "efb1dad2",
   "metadata": {},
   "outputs": [
    {
     "ename": "ValueError",
     "evalue": "list.remove(x): x not in list",
     "output_type": "error",
     "traceback": [
      "\u001b[0;31m---------------------------------------------------------------------------\u001b[0m",
      "\u001b[0;31mValueError\u001b[0m                                Traceback (most recent call last)",
      "Input \u001b[0;32mIn [19]\u001b[0m, in \u001b[0;36m<cell line: 2>\u001b[0;34m()\u001b[0m\n\u001b[1;32m      1\u001b[0m \u001b[38;5;66;03m# try to remove using index\u001b[39;00m\n\u001b[0;32m----> 2\u001b[0m \u001b[43manimal\u001b[49m\u001b[38;5;241;43m.\u001b[39;49m\u001b[43mremove\u001b[49m\u001b[43m(\u001b[49m\u001b[38;5;241;43m0\u001b[39;49m\u001b[43m)\u001b[49m\n",
      "\u001b[0;31mValueError\u001b[0m: list.remove(x): x not in list"
     ]
    }
   ],
   "source": [
    "# try to remove using index\n",
    "animal.remove(0)"
   ]
  },
  {
   "cell_type": "markdown",
   "id": "20354b23",
   "metadata": {},
   "source": [
    "## List slicing"
   ]
  },
  {
   "cell_type": "code",
   "execution_count": 26,
   "id": "7074ae2c",
   "metadata": {},
   "outputs": [
    {
     "name": "stdout",
     "output_type": "stream",
     "text": [
      "['jeff', 'tom']\n"
     ]
    }
   ],
   "source": [
    "# list of names\n",
    "names = ['jeff', 'tom', 'grace', 'joyce', 'tan', 'yi']\n",
    "\n",
    "# positive list slicing\n",
    "# default index-jump is 1\n",
    "new_names = names[0:2]\n",
    "print(new_names)"
   ]
  },
  {
   "cell_type": "code",
   "execution_count": 27,
   "id": "59197318",
   "metadata": {},
   "outputs": [
    {
     "name": "stdout",
     "output_type": "stream",
     "text": [
      "['joyce', 'tan']\n"
     ]
    }
   ],
   "source": [
    "# negative list slicing\n",
    "new_names = names[-3:-1]\n",
    "print(new_names)"
   ]
  },
  {
   "cell_type": "code",
   "execution_count": 28,
   "id": "5ec93538",
   "metadata": {},
   "outputs": [
    {
     "name": "stdout",
     "output_type": "stream",
     "text": [
      "['jeff', 'grace']\n"
     ]
    }
   ],
   "source": [
    "# change the default index-jump to 2\n",
    "new_names = names[0:4:2]\n",
    "print(new_names)"
   ]
  },
  {
   "cell_type": "code",
   "execution_count": 29,
   "id": "9e365d8b",
   "metadata": {},
   "outputs": [
    {
     "name": "stdout",
     "output_type": "stream",
     "text": [
      "['jeff', 'tom', 'grace', 'joyce', 'tan', 'yi']\n"
     ]
    }
   ],
   "source": [
    "# copy the whole list\n",
    "all_names = names[:]\n",
    "print(all_names)"
   ]
  },
  {
   "cell_type": "markdown",
   "id": "566bc76e",
   "metadata": {},
   "source": [
    "## List sorting"
   ]
  },
  {
   "cell_type": "code",
   "execution_count": 23,
   "id": "b6f0b2db",
   "metadata": {},
   "outputs": [
    {
     "name": "stdout",
     "output_type": "stream",
     "text": [
      "[100, -50, 0, 20, 2]\n",
      "After sorting: [-50, 0, 2, 20, 100]\n"
     ]
    }
   ],
   "source": [
    "nums = [100,-50, 0, 20, 2]\n",
    "print(nums)\n",
    "\n",
    "nums.sort()\n",
    "print(f'After sorting: {nums}')"
   ]
  },
  {
   "cell_type": "code",
   "execution_count": 24,
   "id": "d0824819",
   "metadata": {},
   "outputs": [
    {
     "name": "stdout",
     "output_type": "stream",
     "text": [
      "None\n",
      "[-50, 0, 2, 20, 100]\n",
      "[100, 20, 2, 0, -50]\n"
     ]
    }
   ],
   "source": [
    "# create a new variable after sorting\n",
    "# Incorrect: use sort() to store the stored list to a new list\n",
    "wrong_sorted_num = nums.sort()\n",
    "print(wrong_sorted_num)\n",
    "\n",
    "# correct: use sorted\n",
    "correct_sorted_num = sorted(nums)\n",
    "print(correct_sorted_num)\n",
    "\n",
    "# reverse sorting by using the keyword reverse\n",
    "reverse_sorted = sorted(nums, reverse=True)\n",
    "print(reverse_sorted)"
   ]
  }
 ],
 "metadata": {
  "kernelspec": {
   "display_name": "mlflow",
   "language": "python",
   "name": "mlflow"
  },
  "language_info": {
   "codemirror_mode": {
    "name": "ipython",
    "version": 3
   },
   "file_extension": ".py",
   "mimetype": "text/x-python",
   "name": "python",
   "nbconvert_exporter": "python",
   "pygments_lexer": "ipython3",
   "version": "3.10.4"
  }
 },
 "nbformat": 4,
 "nbformat_minor": 5
}
